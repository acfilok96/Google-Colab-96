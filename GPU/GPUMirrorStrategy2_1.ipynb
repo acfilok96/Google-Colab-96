{
  "nbformat": 4,
  "nbformat_minor": 0,
  "metadata": {
    "colab": {
      "name": "GPUMirrorStrategy2_1.ipynb",
      "provenance": []
    },
    "kernelspec": {
      "name": "python3",
      "display_name": "Python 3"
    },
    "language_info": {
      "name": "python"
    },
    "accelerator": "GPU"
  },
  "cells": [
    {
      "cell_type": "code",
      "execution_count": 1,
      "metadata": {
        "id": "9pZkm1CNeaLQ"
      },
      "outputs": [],
      "source": [
        "import tensorflow as tf\n",
        "from tensorflow import keras\n",
        "import os,sys\n",
        "import numpy as np"
      ]
    },
    {
      "cell_type": "code",
      "source": [
        "(x_train,y_train),(x_test,y_test) = tf.keras.datasets.cifar10.load_data()\n",
        "print(x_train.shape,y_train.shape)\n",
        "print(x_test.shape,y_test.shape)"
      ],
      "metadata": {
        "colab": {
          "base_uri": "https://localhost:8080/"
        },
        "id": "Vt-l_3vYepKb",
        "outputId": "c024bf3b-45d0-40fa-d00d-8310bbb77a7a"
      },
      "execution_count": 4,
      "outputs": [
        {
          "output_type": "stream",
          "name": "stdout",
          "text": [
            "(50000, 32, 32, 3) (50000, 1)\n",
            "(10000, 32, 32, 3) (10000, 1)\n"
          ]
        }
      ]
    },
    {
      "cell_type": "code",
      "source": [
        "tf.config.experimental.list_physical_devices()"
      ],
      "metadata": {
        "colab": {
          "base_uri": "https://localhost:8080/"
        },
        "id": "7g_14J_Be15a",
        "outputId": "9f25c0c9-0dc5-48b2-ea5d-317ea8070273"
      },
      "execution_count": 3,
      "outputs": [
        {
          "output_type": "execute_result",
          "data": {
            "text/plain": [
              "[PhysicalDevice(name='/physical_device:CPU:0', device_type='CPU'),\n",
              " PhysicalDevice(name='/physical_device:GPU:0', device_type='GPU')]"
            ]
          },
          "metadata": {},
          "execution_count": 3
        }
      ]
    },
    {
      "cell_type": "code",
      "source": [
        "classes  = ['airplane','automobile','bird','cat','deer','dog','frog','horse','ship','truck']"
      ],
      "metadata": {
        "id": "q-sBD_l5e-he"
      },
      "execution_count": 7,
      "outputs": []
    },
    {
      "cell_type": "code",
      "source": [
        "y_train[:5]"
      ],
      "metadata": {
        "colab": {
          "base_uri": "https://localhost:8080/"
        },
        "id": "pG7cXtWnfYWS",
        "outputId": "7dd884e4-4bde-4846-b5c0-bcf79c3c2d68"
      },
      "execution_count": 8,
      "outputs": [
        {
          "output_type": "execute_result",
          "data": {
            "text/plain": [
              "array([[6],\n",
              "       [9],\n",
              "       [9],\n",
              "       [4],\n",
              "       [1]], dtype=uint8)"
            ]
          },
          "metadata": {},
          "execution_count": 8
        }
      ]
    },
    {
      "cell_type": "code",
      "source": [
        "x_train_scaled = x_train/255.0\n",
        "x_test_scaled = x_test/255.0"
      ],
      "metadata": {
        "id": "XybXEm_8fvFB"
      },
      "execution_count": 9,
      "outputs": []
    },
    {
      "cell_type": "code",
      "source": [
        "y_train_categorical = tf.keras.utils.to_categorical(y_train, num_classes = 10, dtype='float32')\n",
        "y_test_categorical = tf.keras.utils.to_categorical(y_test, num_classes = 10, dtype='float32')\n",
        "print(y_train_categorical.shape)\n",
        "print(y_test_categorical.shape)"
      ],
      "metadata": {
        "colab": {
          "base_uri": "https://localhost:8080/"
        },
        "id": "3_Om3IcUf1SN",
        "outputId": "44553248-2891-4577-dd0d-80f2de1d1bb7"
      },
      "execution_count": 11,
      "outputs": [
        {
          "output_type": "stream",
          "name": "stdout",
          "text": [
            "(50000, 10)\n",
            "(10000, 10)\n"
          ]
        }
      ]
    },
    {
      "cell_type": "code",
      "source": [
        "def get_model():\n",
        "  model = tf.keras.Sequential([tf.keras.layers.Flatten(input_shape=(32,32,3)),\n",
        "                               tf.keras.layers.Dense(3000,activation='relu'),\n",
        "                               tf.keras.layers.Dense(1000,activation='relu'),\n",
        "                               tf.keras.layers.Dense(10,activation='sigmoid')\n",
        "                               \n",
        "  ])\n",
        "  \n",
        "  model.compile(optimizer='SGD', loss='categorical_crossentropy',metrics=['accuracy'])\n",
        "\n",
        "  return model\n",
        "\n",
        "print(get_model().summary())"
      ],
      "metadata": {
        "colab": {
          "base_uri": "https://localhost:8080/"
        },
        "id": "KH1F42gYgKPc",
        "outputId": "83f6ab07-c31c-4496-868f-4bc943965d08"
      },
      "execution_count": 13,
      "outputs": [
        {
          "output_type": "stream",
          "name": "stdout",
          "text": [
            "Model: \"sequential\"\n",
            "_________________________________________________________________\n",
            " Layer (type)                Output Shape              Param #   \n",
            "=================================================================\n",
            " flatten (Flatten)           (None, 3072)              0         \n",
            "                                                                 \n",
            " dense (Dense)               (None, 3000)              9219000   \n",
            "                                                                 \n",
            " dense_1 (Dense)             (None, 1000)              3001000   \n",
            "                                                                 \n",
            " dense_2 (Dense)             (None, 10)                10010     \n",
            "                                                                 \n",
            "=================================================================\n",
            "Total params: 12,230,010\n",
            "Trainable params: 12,230,010\n",
            "Non-trainable params: 0\n",
            "_________________________________________________________________\n",
            "None\n"
          ]
        }
      ]
    },
    {
      "cell_type": "code",
      "source": [
        "train_tf_dataset = tf.data.Dataset.from_tensor_slices((x_train_scaled,y_train_categorical))\n",
        "test_tf_dataset = tf.data.Dataset.from_tensor_slices((x_train_scaled,y_train_categorical))\n",
        "print(type(train_tf_dataset))\n",
        "print(type(test_tf_dataset))"
      ],
      "metadata": {
        "colab": {
          "base_uri": "https://localhost:8080/"
        },
        "id": "SEcqpqzthT9Z",
        "outputId": "0a6873d9-decf-40e1-bbce-374419ecf994"
      },
      "execution_count": 14,
      "outputs": [
        {
          "output_type": "stream",
          "name": "stdout",
          "text": [
            "<class 'tensorflow.python.data.ops.dataset_ops.TensorSliceDataset'>\n",
            "<class 'tensorflow.python.data.ops.dataset_ops.TensorSliceDataset'>\n"
          ]
        }
      ]
    },
    {
      "cell_type": "code",
      "source": [
        "strategy = tf.distribute.MirroredStrategy()\n",
        "print(strategy)"
      ],
      "metadata": {
        "colab": {
          "base_uri": "https://localhost:8080/"
        },
        "id": "DnDHOgn7h_DY",
        "outputId": "30bc8316-444f-40f2-a0fa-caf7a173c354"
      },
      "execution_count": 17,
      "outputs": [
        {
          "output_type": "stream",
          "name": "stdout",
          "text": [
            "INFO:tensorflow:Using MirroredStrategy with devices ('/job:localhost/replica:0/task:0/device:GPU:0',)\n",
            "<tensorflow.python.distribute.mirrored_strategy.MirroredStrategy object at 0x7f0d41182290>\n"
          ]
        }
      ]
    },
    {
      "cell_type": "code",
      "source": [
        "print(strategy.num_replicas_in_sync)"
      ],
      "metadata": {
        "colab": {
          "base_uri": "https://localhost:8080/"
        },
        "id": "v-q_sTcpiLQS",
        "outputId": "7d23093e-b318-4337-d928-45e387b64251"
      },
      "execution_count": 18,
      "outputs": [
        {
          "output_type": "stream",
          "name": "stdout",
          "text": [
            "1\n"
          ]
        }
      ]
    },
    {
      "cell_type": "code",
      "source": [
        "BUFFER_SIZE = len(x_train_scaled)\n",
        "print(\"BUFFER_SIZE: \",BUFFER_SIZE)\n",
        "\n",
        "BATCH_SIZE_PER_REPLICA = 250\n",
        "print(\"BATCH_SIZE_PER_REPLICA: \",BATCH_SIZE_PER_REPLICA)\n",
        "\n",
        "BATCH_SIZE = BATCH_SIZE_PER_REPLICA * strategy.num_replicas_in_sync\n",
        "print(\"GLOBAL_BATCH_SIZE: \",BATCH_SIZE)\n",
        "\n",
        "# EPOCHS = 10"
      ],
      "metadata": {
        "colab": {
          "base_uri": "https://localhost:8080/"
        },
        "id": "ZtjY_96Figlj",
        "outputId": "e73f9f69-ba7a-4bcc-b85a-abd6df7def35"
      },
      "execution_count": 19,
      "outputs": [
        {
          "output_type": "stream",
          "name": "stdout",
          "text": [
            "BUFFER_SIZE:  50000\n",
            "BATCH_SIZE_PER_REPLICA:  250\n",
            "GLOBAL_BATCH_SIZE:  250\n"
          ]
        }
      ]
    },
    {
      "cell_type": "code",
      "source": [
        "train_dataset = train_tf_dataset.batch(BATCH_SIZE).prefetch(tf.data.AUTOTUNE)\n",
        "test_dataset = test_tf_dataset.batch(BATCH_SIZE)\n",
        "print(train_dataset)\n",
        "print(test_dataset)"
      ],
      "metadata": {
        "colab": {
          "base_uri": "https://localhost:8080/"
        },
        "id": "1vWQLsnOixYE",
        "outputId": "f83b096f-329e-42fa-9c03-5e244cd580fd"
      },
      "execution_count": 21,
      "outputs": [
        {
          "output_type": "stream",
          "name": "stdout",
          "text": [
            "<PrefetchDataset element_spec=(TensorSpec(shape=(None, 32, 32, 3), dtype=tf.float64, name=None), TensorSpec(shape=(None, 10), dtype=tf.float32, name=None))>\n",
            "<BatchDataset element_spec=(TensorSpec(shape=(None, 32, 32, 3), dtype=tf.float64, name=None), TensorSpec(shape=(None, 10), dtype=tf.float32, name=None))>\n"
          ]
        }
      ]
    },
    {
      "cell_type": "code",
      "source": [
        "%%timeit -n1 -r1\n",
        "with strategy.scope():\n",
        "  gpu_model = get_model()\n",
        "  gpu_model.fit(train_dataset,epochs=50)"
      ],
      "metadata": {
        "colab": {
          "base_uri": "https://localhost:8080/"
        },
        "id": "AjkZQ1pzjDBm",
        "outputId": "94ffe71b-bf8e-404e-c1b6-dec60ca253dc"
      },
      "execution_count": 22,
      "outputs": [
        {
          "output_type": "stream",
          "name": "stdout",
          "text": [
            "INFO:tensorflow:Reduce to /job:localhost/replica:0/task:0/device:CPU:0 then broadcast to ('/job:localhost/replica:0/task:0/device:CPU:0',).\n",
            "INFO:tensorflow:Reduce to /job:localhost/replica:0/task:0/device:CPU:0 then broadcast to ('/job:localhost/replica:0/task:0/device:CPU:0',).\n",
            "INFO:tensorflow:Reduce to /job:localhost/replica:0/task:0/device:CPU:0 then broadcast to ('/job:localhost/replica:0/task:0/device:CPU:0',).\n",
            "INFO:tensorflow:Reduce to /job:localhost/replica:0/task:0/device:CPU:0 then broadcast to ('/job:localhost/replica:0/task:0/device:CPU:0',).\n",
            "Epoch 1/50\n",
            "INFO:tensorflow:Reduce to /job:localhost/replica:0/task:0/device:CPU:0 then broadcast to ('/job:localhost/replica:0/task:0/device:CPU:0',).\n",
            "INFO:tensorflow:Reduce to /job:localhost/replica:0/task:0/device:CPU:0 then broadcast to ('/job:localhost/replica:0/task:0/device:CPU:0',).\n",
            "INFO:tensorflow:Reduce to /job:localhost/replica:0/task:0/device:CPU:0 then broadcast to ('/job:localhost/replica:0/task:0/device:CPU:0',).\n",
            "INFO:tensorflow:Reduce to /job:localhost/replica:0/task:0/device:CPU:0 then broadcast to ('/job:localhost/replica:0/task:0/device:CPU:0',).\n",
            "INFO:tensorflow:Reduce to /job:localhost/replica:0/task:0/device:CPU:0 then broadcast to ('/job:localhost/replica:0/task:0/device:CPU:0',).\n",
            "INFO:tensorflow:Reduce to /job:localhost/replica:0/task:0/device:CPU:0 then broadcast to ('/job:localhost/replica:0/task:0/device:CPU:0',).\n",
            "200/200 [==============================] - 8s 19ms/step - loss: 1.9786 - accuracy: 0.3004\n",
            "Epoch 2/50\n",
            "200/200 [==============================] - 4s 20ms/step - loss: 1.8156 - accuracy: 0.3641\n",
            "Epoch 3/50\n",
            "200/200 [==============================] - 4s 19ms/step - loss: 1.7542 - accuracy: 0.3881\n",
            "Epoch 4/50\n",
            "200/200 [==============================] - 4s 18ms/step - loss: 1.7116 - accuracy: 0.4053\n",
            "Epoch 5/50\n",
            "200/200 [==============================] - 4s 18ms/step - loss: 1.6775 - accuracy: 0.4180\n",
            "Epoch 6/50\n",
            "200/200 [==============================] - 4s 18ms/step - loss: 1.6485 - accuracy: 0.4287\n",
            "Epoch 7/50\n",
            "200/200 [==============================] - 4s 18ms/step - loss: 1.6231 - accuracy: 0.4377\n",
            "Epoch 8/50\n",
            "200/200 [==============================] - 4s 18ms/step - loss: 1.6006 - accuracy: 0.4449\n",
            "Epoch 9/50\n",
            "200/200 [==============================] - 4s 18ms/step - loss: 1.5805 - accuracy: 0.4529\n",
            "Epoch 10/50\n",
            "200/200 [==============================] - 4s 18ms/step - loss: 1.5623 - accuracy: 0.4592\n",
            "Epoch 11/50\n",
            "200/200 [==============================] - 4s 18ms/step - loss: 1.5457 - accuracy: 0.4657\n",
            "Epoch 12/50\n",
            "200/200 [==============================] - 4s 18ms/step - loss: 1.5304 - accuracy: 0.4708\n",
            "Epoch 13/50\n",
            "200/200 [==============================] - 4s 18ms/step - loss: 1.5163 - accuracy: 0.4754\n",
            "Epoch 14/50\n",
            "200/200 [==============================] - 4s 18ms/step - loss: 1.5028 - accuracy: 0.4801\n",
            "Epoch 15/50\n",
            "200/200 [==============================] - 4s 18ms/step - loss: 1.4900 - accuracy: 0.4843\n",
            "Epoch 16/50\n",
            "200/200 [==============================] - 4s 18ms/step - loss: 1.4777 - accuracy: 0.4880\n",
            "Epoch 17/50\n",
            "200/200 [==============================] - 3s 17ms/step - loss: 1.4659 - accuracy: 0.4923\n",
            "Epoch 18/50\n",
            "200/200 [==============================] - 4s 18ms/step - loss: 1.4546 - accuracy: 0.4967\n",
            "Epoch 19/50\n",
            "200/200 [==============================] - 3s 17ms/step - loss: 1.4436 - accuracy: 0.5007\n",
            "Epoch 20/50\n",
            "200/200 [==============================] - 4s 18ms/step - loss: 1.4330 - accuracy: 0.5045\n",
            "Epoch 21/50\n",
            "200/200 [==============================] - 4s 18ms/step - loss: 1.4227 - accuracy: 0.5082\n",
            "Epoch 22/50\n",
            "200/200 [==============================] - 3s 17ms/step - loss: 1.4126 - accuracy: 0.5115\n",
            "Epoch 23/50\n",
            "200/200 [==============================] - 4s 18ms/step - loss: 1.4026 - accuracy: 0.5150\n",
            "Epoch 24/50\n",
            "200/200 [==============================] - 3s 17ms/step - loss: 1.3930 - accuracy: 0.5179\n",
            "Epoch 25/50\n",
            "200/200 [==============================] - 4s 18ms/step - loss: 1.3835 - accuracy: 0.5208\n",
            "Epoch 26/50\n",
            "200/200 [==============================] - 4s 18ms/step - loss: 1.3742 - accuracy: 0.5241\n",
            "Epoch 27/50\n",
            "200/200 [==============================] - 4s 17ms/step - loss: 1.3651 - accuracy: 0.5271\n",
            "Epoch 28/50\n",
            "200/200 [==============================] - 3s 17ms/step - loss: 1.3563 - accuracy: 0.5306\n",
            "Epoch 29/50\n",
            "200/200 [==============================] - 3s 17ms/step - loss: 1.3475 - accuracy: 0.5334\n",
            "Epoch 30/50\n",
            "200/200 [==============================] - 4s 18ms/step - loss: 1.3389 - accuracy: 0.5365\n",
            "Epoch 31/50\n",
            "200/200 [==============================] - 3s 17ms/step - loss: 1.3304 - accuracy: 0.5394\n",
            "Epoch 32/50\n",
            "200/200 [==============================] - 3s 17ms/step - loss: 1.3220 - accuracy: 0.5423\n",
            "Epoch 33/50\n",
            "200/200 [==============================] - 4s 18ms/step - loss: 1.3137 - accuracy: 0.5451\n",
            "Epoch 34/50\n",
            "200/200 [==============================] - 4s 18ms/step - loss: 1.3057 - accuracy: 0.5481\n",
            "Epoch 35/50\n",
            "200/200 [==============================] - 4s 18ms/step - loss: 1.2978 - accuracy: 0.5508\n",
            "Epoch 36/50\n",
            "200/200 [==============================] - 4s 18ms/step - loss: 1.2899 - accuracy: 0.5530\n",
            "Epoch 37/50\n",
            "200/200 [==============================] - 3s 17ms/step - loss: 1.2823 - accuracy: 0.5561\n",
            "Epoch 38/50\n",
            "200/200 [==============================] - 4s 18ms/step - loss: 1.2746 - accuracy: 0.5591\n",
            "Epoch 39/50\n",
            "200/200 [==============================] - 3s 17ms/step - loss: 1.2672 - accuracy: 0.5619\n",
            "Epoch 40/50\n",
            "200/200 [==============================] - 3s 17ms/step - loss: 1.2597 - accuracy: 0.5646\n",
            "Epoch 41/50\n",
            "200/200 [==============================] - 4s 18ms/step - loss: 1.2524 - accuracy: 0.5667\n",
            "Epoch 42/50\n",
            "200/200 [==============================] - 4s 18ms/step - loss: 1.2452 - accuracy: 0.5698\n",
            "Epoch 43/50\n",
            "200/200 [==============================] - 4s 18ms/step - loss: 1.2381 - accuracy: 0.5719\n",
            "Epoch 44/50\n",
            "200/200 [==============================] - 3s 17ms/step - loss: 1.2310 - accuracy: 0.5750\n",
            "Epoch 45/50\n",
            "200/200 [==============================] - 3s 17ms/step - loss: 1.2241 - accuracy: 0.5779\n",
            "Epoch 46/50\n",
            "200/200 [==============================] - 4s 18ms/step - loss: 1.2173 - accuracy: 0.5803\n",
            "Epoch 47/50\n",
            "200/200 [==============================] - 3s 17ms/step - loss: 1.2103 - accuracy: 0.5827\n",
            "Epoch 48/50\n",
            "200/200 [==============================] - 4s 18ms/step - loss: 1.2035 - accuracy: 0.5851\n",
            "Epoch 49/50\n",
            "200/200 [==============================] - 3s 17ms/step - loss: 1.1967 - accuracy: 0.5878\n",
            "Epoch 50/50\n",
            "200/200 [==============================] - 4s 18ms/step - loss: 1.1901 - accuracy: 0.5910\n",
            "1 loop, best of 1: 4min 11s per loop\n"
          ]
        }
      ]
    },
    {
      "cell_type": "code",
      "source": [
        "%%timeit -n1 -r1\n",
        "with tf.device('/CPU:0'):\n",
        "  cpu_model = get_model()\n",
        "  cpu_model.fit(train_dataset,epochs=50)"
      ],
      "metadata": {
        "colab": {
          "base_uri": "https://localhost:8080/"
        },
        "id": "iwTClPPvjz2E",
        "outputId": "4300eb6d-adcf-4eba-ea20-0323d3cd7303"
      },
      "execution_count": 27,
      "outputs": [
        {
          "output_type": "stream",
          "name": "stdout",
          "text": [
            "Epoch 1/50\n",
            "200/200 [==============================] - 63s 310ms/step - loss: 1.9835 - accuracy: 0.2983\n",
            "Epoch 2/50\n",
            "200/200 [==============================] - 60s 298ms/step - loss: 1.8174 - accuracy: 0.3637\n",
            "Epoch 3/50\n",
            "200/200 [==============================] - 60s 298ms/step - loss: 1.7556 - accuracy: 0.3881\n",
            "Epoch 4/50\n",
            "200/200 [==============================] - 60s 298ms/step - loss: 1.7129 - accuracy: 0.4031\n",
            "Epoch 5/50\n",
            "200/200 [==============================] - 60s 299ms/step - loss: 1.6788 - accuracy: 0.4152\n",
            "Epoch 6/50\n",
            "200/200 [==============================] - 60s 299ms/step - loss: 1.6501 - accuracy: 0.4252\n",
            "Epoch 7/50\n",
            "200/200 [==============================] - 60s 298ms/step - loss: 1.6250 - accuracy: 0.4345\n",
            "Epoch 8/50\n",
            "200/200 [==============================] - 60s 298ms/step - loss: 1.6027 - accuracy: 0.4427\n",
            "Epoch 9/50\n",
            "200/200 [==============================] - 59s 296ms/step - loss: 1.5826 - accuracy: 0.4499\n",
            "Epoch 10/50\n",
            "200/200 [==============================] - 59s 295ms/step - loss: 1.5646 - accuracy: 0.4559\n",
            "Epoch 11/50\n",
            "200/200 [==============================] - 60s 297ms/step - loss: 1.5480 - accuracy: 0.4619\n",
            "Epoch 12/50\n",
            "200/200 [==============================] - 59s 296ms/step - loss: 1.5327 - accuracy: 0.4674\n",
            "Epoch 13/50\n",
            "200/200 [==============================] - 59s 295ms/step - loss: 1.5185 - accuracy: 0.4726\n",
            "Epoch 14/50\n",
            "200/200 [==============================] - 60s 298ms/step - loss: 1.5052 - accuracy: 0.4773\n",
            "Epoch 15/50\n",
            "200/200 [==============================] - 60s 298ms/step - loss: 1.4925 - accuracy: 0.4808\n",
            "Epoch 16/50\n",
            "200/200 [==============================] - 60s 299ms/step - loss: 1.4804 - accuracy: 0.4847\n",
            "Epoch 17/50\n",
            "200/200 [==============================] - 60s 298ms/step - loss: 1.4687 - accuracy: 0.4890\n",
            "Epoch 18/50\n",
            "200/200 [==============================] - 60s 298ms/step - loss: 1.4575 - accuracy: 0.4937\n",
            "Epoch 19/50\n",
            "200/200 [==============================] - 60s 297ms/step - loss: 1.4466 - accuracy: 0.4969\n",
            "Epoch 20/50\n",
            "200/200 [==============================] - 60s 298ms/step - loss: 1.4358 - accuracy: 0.5009\n",
            "Epoch 21/50\n",
            "200/200 [==============================] - 60s 298ms/step - loss: 1.4254 - accuracy: 0.5053\n",
            "Epoch 22/50\n",
            "200/200 [==============================] - 60s 298ms/step - loss: 1.4153 - accuracy: 0.5087\n",
            "Epoch 23/50\n",
            "200/200 [==============================] - 59s 297ms/step - loss: 1.4053 - accuracy: 0.5123\n",
            "Epoch 24/50\n",
            "200/200 [==============================] - 60s 297ms/step - loss: 1.3956 - accuracy: 0.5154\n",
            "Epoch 25/50\n",
            "200/200 [==============================] - 59s 297ms/step - loss: 1.3860 - accuracy: 0.5189\n",
            "Epoch 26/50\n",
            "200/200 [==============================] - 60s 298ms/step - loss: 1.3767 - accuracy: 0.5223\n",
            "Epoch 27/50\n",
            "200/200 [==============================] - 60s 298ms/step - loss: 1.3676 - accuracy: 0.5250\n",
            "Epoch 28/50\n",
            "200/200 [==============================] - 60s 300ms/step - loss: 1.3587 - accuracy: 0.5283\n",
            "Epoch 29/50\n",
            "200/200 [==============================] - 60s 300ms/step - loss: 1.3498 - accuracy: 0.5316\n",
            "Epoch 30/50\n",
            "200/200 [==============================] - 59s 297ms/step - loss: 1.3411 - accuracy: 0.5350\n",
            "Epoch 31/50\n",
            "200/200 [==============================] - 60s 298ms/step - loss: 1.3325 - accuracy: 0.5381\n",
            "Epoch 32/50\n",
            "200/200 [==============================] - 60s 299ms/step - loss: 1.3241 - accuracy: 0.5413\n",
            "Epoch 33/50\n",
            "200/200 [==============================] - 60s 299ms/step - loss: 1.3158 - accuracy: 0.5441\n",
            "Epoch 34/50\n",
            "200/200 [==============================] - 60s 300ms/step - loss: 1.3077 - accuracy: 0.5468\n",
            "Epoch 35/50\n",
            "200/200 [==============================] - 60s 299ms/step - loss: 1.2996 - accuracy: 0.5503\n",
            "Epoch 36/50\n",
            "200/200 [==============================] - 59s 297ms/step - loss: 1.2917 - accuracy: 0.5527\n",
            "Epoch 37/50\n",
            "200/200 [==============================] - 60s 298ms/step - loss: 1.2840 - accuracy: 0.5555\n",
            "Epoch 38/50\n",
            "200/200 [==============================] - 60s 297ms/step - loss: 1.2764 - accuracy: 0.5585\n",
            "Epoch 39/50\n",
            "200/200 [==============================] - 59s 297ms/step - loss: 1.2689 - accuracy: 0.5613\n",
            "Epoch 40/50\n",
            "200/200 [==============================] - 60s 298ms/step - loss: 1.2616 - accuracy: 0.5634\n",
            "Epoch 41/50\n",
            "200/200 [==============================] - 59s 296ms/step - loss: 1.2540 - accuracy: 0.5657\n",
            "Epoch 42/50\n",
            "200/200 [==============================] - 60s 297ms/step - loss: 1.2467 - accuracy: 0.5680\n",
            "Epoch 43/50\n",
            "200/200 [==============================] - 60s 298ms/step - loss: 1.2395 - accuracy: 0.5702\n",
            "Epoch 44/50\n",
            "200/200 [==============================] - 59s 297ms/step - loss: 1.2325 - accuracy: 0.5732\n",
            "Epoch 45/50\n",
            "200/200 [==============================] - 60s 298ms/step - loss: 1.2253 - accuracy: 0.5756\n",
            "Epoch 46/50\n",
            "200/200 [==============================] - 59s 297ms/step - loss: 1.2183 - accuracy: 0.5780\n",
            "Epoch 47/50\n",
            "200/200 [==============================] - 59s 297ms/step - loss: 1.2115 - accuracy: 0.5806\n",
            "Epoch 48/50\n",
            "200/200 [==============================] - 60s 298ms/step - loss: 1.2045 - accuracy: 0.5834\n",
            "Epoch 49/50\n",
            "200/200 [==============================] - 59s 297ms/step - loss: 1.1977 - accuracy: 0.5859\n",
            "Epoch 50/50\n",
            "200/200 [==============================] - 59s 297ms/step - loss: 1.1909 - accuracy: 0.5888\n",
            "1 loop, best of 1: 59min 47s per loop\n"
          ]
        }
      ]
    },
    {
      "cell_type": "markdown",
      "source": [
        "                                                  -: END :-"
      ],
      "metadata": {
        "id": "Oxhb2dLjlgYq"
      }
    }
  ]
}